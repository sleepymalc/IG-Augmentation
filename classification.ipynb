{
 "cells": [
  {
   "cell_type": "markdown",
   "metadata": {},
   "source": [
    "# Logistic Regression with UCI Dataset"
   ]
  },
  {
   "cell_type": "code",
   "execution_count": 1,
   "metadata": {},
   "outputs": [],
   "source": [
    "\n",
    "import os\n",
    "os.environ[\"PYTHONWARNINGS\"] = \"ignore\"\n",
    "\n",
    "import warnings\n",
    "warnings.filterwarnings('ignore')\n",
    "\n",
    "import numpy as np\n",
    "import cupy as cp\n",
    "import itertools\n",
    "import matplotlib.pyplot as plt\n",
    "from sklearn.linear_model import LogisticRegression\n",
    "\n",
    "from sklearn.preprocessing import LabelEncoder\n",
    "from ucimlrepo import fetch_ucirepo\n",
    "\n",
    "from ld import LD, BP, get_eta"
   ]
  },
  {
   "cell_type": "code",
   "execution_count": 2,
   "metadata": {},
   "outputs": [],
   "source": [
    "def block_B(start_idx, end_idx):\n",
    "    \"\"\"\n",
    "    Create a block B of indexes for the center region.\n",
    "\n",
    "    Parameters:\n",
    "    - start_idx: tuple or list, starting indices for each dimension\n",
    "    - end_idx: tuple or list, ending indices for each dimension\n",
    "\n",
    "    Returns:\n",
    "    - center_region_indexes: numpy array with shape (n, d), the indexes of the center region, where d is the number of dimensions\n",
    "    \"\"\"\n",
    "    if len(start_idx) != len(end_idx):\n",
    "        raise ValueError(\"start_idx and end_idx must have the same number of dimensions.\")\n",
    "\n",
    "    # Generate all combinations of indices\n",
    "    grids = [np.arange(start, end) for start, end in zip(start_idx, end_idx)]\n",
    "    mesh_grids = np.meshgrid(*grids, indexing='ij')\n",
    "    center_region_indexes = np.column_stack([grid.flatten() for grid in mesh_grids])\n",
    "\n",
    "    return center_region_indexes"
   ]
  },
  {
   "cell_type": "code",
   "execution_count": 3,
   "metadata": {},
   "outputs": [],
   "source": [
    "def compute_Q(theta):\n",
    "        r\"\"\"Compute decomposable tensor Q from parameter \\theta using Dynamic Programming.\n",
    "\n",
    "        Parameters\n",
    "        ----------\n",
    "        theta : array\n",
    "            second/third-order tensor.\n",
    "            Same shapes as input tensor P.\n",
    "\n",
    "        beta : list\n",
    "            sets of decomposition basis vectors.\n",
    "\n",
    "        Returns\n",
    "        -------\n",
    "        Q : array\n",
    "            second/third-order tensor.\n",
    "            Decomposable tensor.\n",
    "        \"\"\"\n",
    "        idx = theta.shape\n",
    "        order = len(theta.shape)\n",
    "        theta_sum = np.zeros(theta.shape)\n",
    "\n",
    "        if order == 2:\n",
    "            theta_sum[0, 0] = theta[0, 0]\n",
    "\n",
    "            # update outside eta.\n",
    "            for i in range(1, idx[0]):\n",
    "                theta_sum[i, 0] = theta[i, 0] + theta_sum[i-1, 0]\n",
    "            for j in range(1, idx[1]):\n",
    "                theta_sum[0, j] = theta[0, j] + theta_sum[0, j-1]\n",
    "\n",
    "            # update internal eta.\n",
    "            for i in range(1, idx[0]):\n",
    "                for j in range(1, idx[1]):\n",
    "                    theta_sum[i, j] = theta[i, j] + theta_sum[i-1, j] \\\n",
    "                                        + theta_sum[i, j-1] - theta_sum[i-1, j-1]\n",
    "\n",
    "        elif order == 3:\n",
    "            theta_sum[0, 0, 0] = theta[0, 0, 0]\n",
    "\n",
    "            # update outside eta.\n",
    "            for i in range(1, idx[0]):\n",
    "                theta_sum[i, 0, 0] = theta[i, 0, 0] + theta_sum[i-1, 0, 0]\n",
    "            for j in range(1, idx[1]):\n",
    "                theta_sum[0, j, 0] = theta[0, j, 0] + theta_sum[0, j-1, 0]\n",
    "            for k in range(1, idx[2]):\n",
    "                theta_sum[0, 0, k] = theta[0, 0, k] + theta_sum[0, 0, k-1]\n",
    "\n",
    "            # update internal eta.\n",
    "            for i, j in itertools.product(range(1, idx[0]), range(1, idx[1])):\n",
    "                theta_sum[i, j, 0] = theta[i, j, 0] + theta_sum[i-1, j, 0] \\\n",
    "                                        + theta_sum[i, j-1, 0] - theta_sum[i-1, j-1, 0]\n",
    "            for j, k in itertools.product(range(1, idx[1]), range(1, idx[2])):\n",
    "                theta_sum[0, j, k] = theta[0, j, k] + theta_sum[0, j-1, k] \\\n",
    "                                        + theta_sum[0, j, k-1] - theta_sum[0, j-1, k-1]\n",
    "            for i, k in itertools.product(range(1, idx[0]), range(1, idx[2])):\n",
    "                theta_sum[i, 0, k] = theta[i, 0, k] + theta_sum[i-1, 0, k] \\\n",
    "                                        + theta_sum[i, 0, k-1] - theta_sum[i-1, 0, k-1]\n",
    "\n",
    "            for i, j, k in itertools.product(range(1, idx[0]), range(1, idx[1]), range(1, idx[2])):\n",
    "                theta_sum[i, j, k] = theta[i, j, k] + theta_sum[i-1, j, k] + theta_sum[i, j-1, k] \\\n",
    "                                    + theta_sum[i, j, k-1] - theta_sum[i-1, j-1, k] - theta_sum[i-1, j, k-1] \\\n",
    "                                    - theta_sum[i, j-1, k-1] + theta_sum[i-1, j-1, k-1]\n",
    "\n",
    "        else:\n",
    "            raise NotImplementedError(\"Order of input tensor should be 2 or 3. Order: {}.\".format(order))\n",
    "\n",
    "        Q = np.exp(theta_sum)\n",
    "        psi = Q.sum()\n",
    "        Q /= psi\n",
    "\n",
    "        return Q"
   ]
  },
  {
   "cell_type": "code",
   "execution_count": 4,
   "metadata": {},
   "outputs": [],
   "source": [
    "def find_factorization(D):\n",
    "    factors = []\n",
    "\n",
    "    # Try to find a factorization with 3 factors first\n",
    "    for a in range(2, int(D**(1/3)) + 2):\n",
    "        if D % a == 0:\n",
    "            bc = D // a\n",
    "            for b in range(a, int(bc**(1/2)) + 2):\n",
    "                if bc % b == 0:\n",
    "                    c = bc // b\n",
    "                    factors.append((a, b, c))\n",
    "                    return factors\n",
    "\n",
    "    # If 3-factor factorization is not found, try 2-factor factorization\n",
    "    for a in range(2, int(D**(1/2)) + 2):\n",
    "        if D % a == 0:\n",
    "            b = D // a\n",
    "            factors.append((a, b))\n",
    "            return factors\n",
    "\n",
    "    return factors"
   ]
  },
  {
   "cell_type": "markdown",
   "metadata": {},
   "source": [
    "## Basic Logistic Regression"
   ]
  },
  {
   "cell_type": "code",
   "execution_count": 5,
   "metadata": {},
   "outputs": [],
   "source": [
    "UCI_id = 17\n",
    "test_size = 0.5"
   ]
  },
  {
   "cell_type": "code",
   "execution_count": 6,
   "metadata": {},
   "outputs": [
    {
     "name": "stdout",
     "output_type": "stream",
     "text": [
      "Shape of features: (569, 30)\n",
      "Shape of labels: (569,)\n",
      "Unique labels: [0 1]\n",
      "Shape of features: (284, 30)\n"
     ]
    }
   ],
   "source": [
    "UCI_dataset = fetch_ucirepo(id=UCI_id)\n",
    "\n",
    "X = np.array(UCI_dataset.data.features)\n",
    "Y = np.array(LabelEncoder().fit_transform(UCI_dataset.data.targets))\n",
    "\n",
    "# Print the shape of features and labels\n",
    "print(\"Shape of features:\", X.shape)\n",
    "print(\"Shape of labels:\", Y.shape)\n",
    "\n",
    "# Normalize the input data\n",
    "# X_mean = np.mean(X, axis=0)\n",
    "# X_std = np.std(X, axis=0)\n",
    "# X = normalization(X, X_mean, X_std)\n",
    "\n",
    "# Find unique labels\n",
    "unique_labels = np.unique(Y)\n",
    "print(\"Unique labels:\", unique_labels)\n",
    "\n",
    "# Create an array of indices\n",
    "indices = np.arange(len(Y))\n",
    "np.random.shuffle(indices)\n",
    "\n",
    "# Use the shuffled indices to randomly select data for training and testing\n",
    "n_train = int(len(Y) * (1 - test_size))\n",
    "X_train, Y_train = X[indices[:n_train]], Y[indices[:n_train]]\n",
    "X_test, Y_test = X[indices[n_train:]], Y[indices[n_train:]]\n",
    "\n",
    "print(\"Shape of features:\", X_train.shape)\n",
    "\n",
    "X_train_class = []\n",
    "Y_train_class = []\n",
    "for i in unique_labels:\n",
    "    X_train_class.append(X_train[np.isin(Y_train, i).flatten()])\n",
    "    Y_train_class.append(Y_train[np.isin(Y_train, i).flatten()])\n",
    "\n",
    "X_test_class = []\n",
    "Y_test_class = []\n",
    "for i in unique_labels:\n",
    "    X_test_class.append(X_test[np.isin(Y_test, i).flatten()])\n",
    "    Y_test_class.append(Y_test[np.isin(Y_test, i).flatten()])"
   ]
  },
  {
   "cell_type": "code",
   "execution_count": 7,
   "metadata": {},
   "outputs": [
    {
     "name": "stdout",
     "output_type": "stream",
     "text": [
      "Tensor Structure of the Feature: (2, 3, 5)\n"
     ]
    }
   ],
   "source": [
    "# Feature dimension\n",
    "D = X_train.shape[1]\n",
    "\n",
    "D_ = find_factorization(D)[0]\n",
    "print(\"Tensor Structure of the Feature:\", D_)\n",
    "\n",
    "D_ = [5, 6]\n",
    "dim = len(D_)"
   ]
  },
  {
   "cell_type": "code",
   "execution_count": 8,
   "metadata": {},
   "outputs": [
    {
     "name": "stdout",
     "output_type": "stream",
     "text": [
      "Accuracy on the test set: 0.9438596491228071\n"
     ]
    },
    {
     "data": {
      "image/png": "[encoded data removed]",
      "text/plain": [
       "<Figure size 640x480 with 2 Axes>"
      ]
     },
     "metadata": {},
     "output_type": "display_data"
    }
   ],
   "source": [
    "# Train a logistic classifier\n",
    "clf = LogisticRegression(max_iter=1000)\n",
    "clf.fit(X_train, Y_train)\n",
    "\n",
    "# Measure the accuracy on the test set\n",
    "accuracy = clf.score(X_test, Y_test)\n",
    "print(\"Accuracy on the test set:\", accuracy)\n",
    "\n",
    "# Optional: Display the confusion matrix\n",
    "from sklearn.metrics import confusion_matrix, ConfusionMatrixDisplay\n",
    "\n",
    "y_pred = clf.predict(X_test)\n",
    "cm = confusion_matrix(Y_test, y_pred, labels=unique_labels)\n",
    "disp = ConfusionMatrixDisplay(confusion_matrix=cm, display_labels=unique_labels)\n",
    "\n",
    "disp.plot(cmap=plt.cm.Blues)\n",
    "plt.show()"
   ]
  },
  {
   "cell_type": "markdown",
   "metadata": {},
   "source": [
    "## Data Generation"
   ]
  },
  {
   "cell_type": "markdown",
   "metadata": {},
   "source": [
    "### Legendre Decomposition"
   ]
  },
  {
   "cell_type": "code",
   "execution_count": 9,
   "metadata": {},
   "outputs": [],
   "source": [
    "train_theta_class = []\n",
    "\n",
    "for X_train_per_class in X_train_class:\n",
    "    theta_list = []\n",
    "\n",
    "    for x in X_train_per_class:\n",
    "        x_tensor = x.reshape(*D_)\n",
    "        _, scaleX, Q, theta = LD(x_tensor, order=2, verbose=False, n_iter=100, lr=1e-4, exit_abs=True)\n",
    "        theta_list.append(theta)\n",
    "\n",
    "    train_theta_class.append(theta_list)\n",
    "\n",
    "test_theta_class = []\n",
    "for X_test_per_class in X_test_class:\n",
    "    theta_list = []\n",
    "\n",
    "    for x in X_test_per_class:\n",
    "        x_tensor = x.reshape(*D_)\n",
    "        _, scaleX, Q, theta = LD(x_tensor, order=2, verbose=False, n_iter=100, lr=1e-4, exit_abs=True)\n",
    "        theta_list.append(theta)\n",
    "\n",
    "    test_theta_class.append(theta_list)\n",
    "\n",
    "theta_train = np.concatenate([np.array(theta).reshape(-1, D) for theta in train_theta_class])\n",
    "theta_test = np.concatenate([np.array(theta).reshape(-1, D) for theta in test_theta_class])"
   ]
  },
  {
   "cell_type": "markdown",
   "metadata": {},
   "source": [
    "### Classification on $\\theta$'s"
   ]
  },
  {
   "cell_type": "code",
   "execution_count": 10,
   "metadata": {},
   "outputs": [
    {
     "name": "stdout",
     "output_type": "stream",
     "text": [
      "Accuracy on the test set: 0.6035087719298246\n"
     ]
    },
    {
     "data": {
      "image/png": "[encoded data removed]",
      "text/plain": [
       "<Figure size 640x480 with 2 Axes>"
      ]
     },
     "metadata": {},
     "output_type": "display_data"
    }
   ],
   "source": [
    "# Train a logistic classifier\n",
    "clf = LogisticRegression(max_iter=1000)\n",
    "clf.fit(theta_train, Y_train)\n",
    "\n",
    "# Measure the accuracy on the test set\n",
    "accuracy = clf.score(theta_test, Y_test)\n",
    "print(\"Accuracy on the test set:\", accuracy)\n",
    "\n",
    "y_pred = clf.predict(theta_test)\n",
    "cm = confusion_matrix(Y_test, y_pred, labels=unique_labels)\n",
    "disp = ConfusionMatrixDisplay(confusion_matrix=cm, display_labels=unique_labels)\n",
    "\n",
    "disp.plot(cmap=plt.cm.Blues)\n",
    "plt.show()"
   ]
  },
  {
   "cell_type": "code",
   "execution_count": null,
   "metadata": {},
   "outputs": [],
   "source": []
  }
 ],
 "metadata": {
  "kernelspec": {
   "display_name": "base",
   "language": "python",
   "name": "python3"
  },
  "language_info": {
   "codemirror_mode": {
    "name": "ipython",
    "version": 3
   },
   "file_extension": ".py",
   "mimetype": "text/x-python",
   "name": "python",
   "nbconvert_exporter": "python",
   "pygments_lexer": "ipython3",
   "version": "3.11.9"
  }
 },
 "nbformat": 4,
 "nbformat_minor": 2
}
