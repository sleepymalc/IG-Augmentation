{
 "cells": [
  {
   "cell_type": "markdown",
   "metadata": {},
   "source": [
    "# UCI Dataset: Wine Quality"
   ]
  },
  {
   "cell_type": "code",
   "execution_count": 1,
   "metadata": {},
   "outputs": [],
   "source": [
    "import os\n",
    "os.environ[\"PYTHONWARNINGS\"] = \"ignore\"\n",
    "\n",
    "import warnings\n",
    "warnings.filterwarnings('ignore')\n",
    "\n",
    "import sys\n",
    "sys.path.append(os.path.abspath(os.path.join(os.getcwd(), os.pardir)))\n",
    "\n",
    "import random\n",
    "\n",
    "import torch\n",
    "import torch.nn as nn\n",
    "from torch.utils.data import Dataset, DataLoader, Subset, ConcatDataset\n",
    "\n",
    "from sklearn.preprocessing import LabelEncoder\n",
    "from ucimlrepo import fetch_ucirepo\n",
    "\n",
    "from sklearn.neighbors import KernelDensity\n",
    "\n",
    "from tqdm import tqdm\n",
    "\n",
    "import numpy as np\n",
    "import cupy as cp\n",
    "import matplotlib.pyplot as plt\n",
    "\n",
    "from joblib import Parallel, delayed\n",
    "\n",
    "import ld\n",
    "from utlis import vectorize_tensor, reconstruct_tensor\n",
    "\n",
    "device = torch.device(\"cuda\" if torch.cuda.is_available() else \"cpu\")"
   ]
  },
  {
   "cell_type": "markdown",
   "metadata": {},
   "source": [
    "## Setup"
   ]
  },
  {
   "cell_type": "markdown",
   "metadata": {},
   "source": [
    "### General"
   ]
  },
  {
   "cell_type": "code",
   "execution_count": 2,
   "metadata": {},
   "outputs": [],
   "source": [
    "def set_random_seed(seed):\n",
    "    random.seed(seed)\n",
    "    np.random.seed(seed)\n",
    "\n",
    "    torch.manual_seed(seed)\n",
    "    if torch.cuda.is_available():\n",
    "        torch.cuda.manual_seed(seed)\n",
    "\n",
    "    cp.random.seed(seed)\n",
    "\n",
    "    torch.backends.cudnn.deterministic = True\n",
    "    torch.backends.cudnn.benchmark = False\n",
    "\n",
    "set_random_seed(42)\n",
    "k = 5\n",
    "bandwidth = 0.05\n",
    "bandwidth_AE = 0.05\n",
    "eps = np.asarray(1.0e-5)"
   ]
  },
  {
   "cell_type": "markdown",
   "metadata": {},
   "source": [
    "### Dataset"
   ]
  },
  {
   "cell_type": "code",
   "execution_count": 3,
   "metadata": {},
   "outputs": [],
   "source": [
    "class NumpyDataset(Dataset):\n",
    "    def __init__(self, features, labels, transform=None):\n",
    "        \"\"\"\n",
    "        Args:\n",
    "            features (np.ndarray): Feature matrix.\n",
    "            labels (np.ndarray): Label array.\n",
    "            transform (callable, optional): Optional transform to be applied\n",
    "                on a sample.\n",
    "        \"\"\"\n",
    "        self.features = torch.tensor(features, dtype=torch.float32)\n",
    "        self.labels = torch.tensor(labels, dtype=torch.long)\n",
    "        self.transform = transform\n",
    "\n",
    "    def __len__(self):\n",
    "        return len(self.labels)\n",
    "\n",
    "    def __getitem__(self, idx):\n",
    "        sample = self.features[idx]\n",
    "        label = self.labels[idx]\n",
    "\n",
    "        if self.transform:\n",
    "            sample = self.transform(sample)\n",
    "\n",
    "        return sample, label\n",
    "\n",
    "# Normalize transform for UCI dataset\n",
    "class Normalize:\n",
    "    def __init__(self, mean, std):\n",
    "        self.mean = torch.tensor(mean, dtype=torch.float32)\n",
    "        self.std = torch.tensor(std, dtype=torch.float32)\n",
    "\n",
    "    def __call__(self, sample):\n",
    "        # std is 0 for constant features, so we add a small epsilon to avoid division by zero\n",
    "        return (sample - self.mean) / (self.std + eps)\n",
    "\n",
    "# Custom transformation for adding Gaussian noise\n",
    "class AddGaussianNoise:\n",
    "    def __init__(self, mean=0.0, std=0.1):\n",
    "        self.mean = mean\n",
    "        self.std = std\n",
    "\n",
    "    def __call__(self, sample):\n",
    "        noise = torch.randn_like(sample) * self.std + self.mean\n",
    "        return sample + noise\n",
    "\n",
    "# Composite transformation to combine Normalize and AddGaussianNoise\n",
    "class CompositeTransform:\n",
    "    def __init__(self, transforms):\n",
    "        \"\"\"\n",
    "        Args:\n",
    "            transforms (list): List of transformations to apply in sequence.\n",
    "        \"\"\"\n",
    "        self.transforms = transforms\n",
    "\n",
    "    def __call__(self, sample):\n",
    "        for transform in self.transforms:\n",
    "            sample = transform(sample)\n",
    "        return sample"
   ]
  },
  {
   "cell_type": "code",
   "execution_count": 4,
   "metadata": {},
   "outputs": [
    {
     "name": "stderr",
     "output_type": "stream",
     "text": [
      "/home/pbb/miniconda3/envs/ig/lib/python3.11/site-packages/sklearn/preprocessing/_label.py:114: DataConversionWarning: A column-vector y was passed when a 1d array was expected. Please change the shape of y to (n_samples, ), for example using ravel().\n",
      "  y = column_or_1d(y, warn=True)\n"
     ]
    }
   ],
   "source": [
    "UCI_id = 186 # https://archive.ics.uci.edu/dataset/186/wine-quality\n",
    "test_size = 0.2\n",
    "\n",
    "UCI_dataset = fetch_ucirepo(id=UCI_id)\n",
    "\n",
    "X = np.array(UCI_dataset.data.features)\n",
    "Y = np.array(LabelEncoder().fit_transform(UCI_dataset.data.targets))\n",
    "\n",
    "# normalize to [0, 1]\n",
    "X = (X - X.min()) / (X.max() - X.min())\n",
    "\n",
    "# extend features to 12 dimensions\n",
    "X = np.pad(X, ((0, 0), (0, 12 - X.shape[1])), mode=\"constant\")\n",
    "\n",
    "# Find unique labels\n",
    "unique_labels = np.unique(Y)\n",
    "\n",
    "# Create an array of indices\n",
    "indices = np.arange(len(Y))\n",
    "np.random.shuffle(indices)\n",
    "\n",
    "# Use the shuffled indices to randomly select data for training and testing\n",
    "n_train = int(len(Y) * (1 - test_size))\n",
    "X_train, Y_train = X[indices[:n_train]], Y[indices[:n_train]]\n",
    "X_test, Y_test = X[indices[n_train:]], Y[indices[n_train:]]\n",
    "\n",
    "X_train_class = []\n",
    "Y_train_class = []\n",
    "for i in unique_labels:\n",
    "    X_train_class.append(X_train[np.isin(Y_train, i).flatten()])\n",
    "    Y_train_class.append(Y_train[np.isin(Y_train, i).flatten()])\n",
    "\n",
    "mean = X_train.mean(axis=0)\n",
    "std = X_train.std(axis=0)\n",
    "\n",
    "train_dataset = NumpyDataset(X_train, Y_train, transform=Normalize(mean, std))\n",
    "test_dataset = NumpyDataset(X_test, Y_test, transform=Normalize(mean, std))"
   ]
  },
  {
   "cell_type": "code",
   "execution_count": 5,
   "metadata": {},
   "outputs": [
    {
     "name": "stdout",
     "output_type": "stream",
     "text": [
      "Train size: 5197\n",
      "Test size: 1300\n",
      "New sample size: 1036\n",
      "Number of classes: 7\n",
      "Number of features: 11\n"
     ]
    }
   ],
   "source": [
    "D = X_train.shape[1]\n",
    "S = (2, 2, 3)\n",
    "\n",
    "if np.prod(S) != D:\n",
    "    raise ValueError(\"The product of the tensor structure is not equal to the feature dimension\")\n",
    "\n",
    "new_sample_size_per_digit = int(n_train * 0.2 // len(unique_labels))\n",
    "\n",
    "# Print dataset statistics\n",
    "print(f\"Train size: {len(train_dataset)}\")\n",
    "print(f\"Test size: {len(test_dataset)}\")\n",
    "print(f\"New sample size: {new_sample_size_per_digit * len(unique_labels)}\")\n",
    "print(f\"Number of classes: {len(unique_labels)}\")\n",
    "print(f\"Number of features: {D-1}\")"
   ]
  },
  {
   "cell_type": "markdown",
   "metadata": {},
   "source": [
    "## Pseudo-Non-Linear Data Augmentation"
   ]
  },
  {
   "cell_type": "markdown",
   "metadata": {},
   "source": [
    "### Legendre Decomposition (Many-Body Approximation)"
   ]
  },
  {
   "cell_type": "code",
   "execution_count": 6,
   "metadata": {},
   "outputs": [
    {
     "name": "stdout",
     "output_type": "stream",
     "text": [
      "Dimension of Base Sub-Manifold: 10\n"
     ]
    }
   ],
   "source": [
    "B_LD = ld.default_B(S, 2, cp.get_array_module(X_train[0]))\n",
    "print(f\"Dimension of Base Sub-Manifold: {B_LD.shape[0]}\")\n",
    "\n",
    "scaleX_class = []\n",
    "theta_class = []\n",
    "\n",
    "def LD_helper(i, class_):\n",
    "    _, _, scaleX, _, theta = ld.LD(X_train_class[class_][i].reshape(*S), B=B_LD, verbose=False, n_iter=1000, lr=1e-1)\n",
    "    return (scaleX, theta)\n",
    "\n",
    "results = Parallel(n_jobs=30)(delayed(LD_helper)(i, class_) for class_ in unique_labels for i in range(len(X_train_class[class_])))\n",
    "\n",
    "len_class = 0\n",
    "for class_ in unique_labels:\n",
    "    scaleX_list = []\n",
    "    theta_list = []\n",
    "\n",
    "    for i in range(len(X_train_class[class_])):\n",
    "        result = results[i + len_class]\n",
    "\n",
    "        scaleX_list.append(result[0])\n",
    "        theta_list.append(result[1])\n",
    "\n",
    "    len_class += len(X_train_class[class_])\n",
    "\n",
    "    scaleX_class.append(scaleX_list)\n",
    "    theta_class.append(theta_list)"
   ]
  },
  {
   "cell_type": "markdown",
   "metadata": {},
   "source": [
    "#### Fitting on Projected Points"
   ]
  },
  {
   "cell_type": "code",
   "execution_count": 7,
   "metadata": {},
   "outputs": [],
   "source": [
    "sampled_theta_class = []\n",
    "\n",
    "for class_ in unique_labels:\n",
    "    reduced_theta = vectorize_tensor(np.array(theta_class[class_]), B_LD)\n",
    "\n",
    "    # Fit a KDE to the theta values\n",
    "    kde = KernelDensity(kernel='gaussian', bandwidth=bandwidth).fit(reduced_theta)\n",
    "    # Sample new data from the KDE\n",
    "    sampled_reduced_theta = kde.sample(n_samples=new_sample_size_per_digit)\n",
    "\n",
    "    sampled_theta = reconstruct_tensor(sampled_reduced_theta, (new_sample_size_per_digit, *S), B_LD)\n",
    "\n",
    "    sampled_theta_class.append(sampled_theta)"
   ]
  },
  {
   "cell_type": "markdown",
   "metadata": {},
   "source": [
    "#### Construct Local Data Sub-Manifold"
   ]
  },
  {
   "cell_type": "code",
   "execution_count": 8,
   "metadata": {},
   "outputs": [
    {
     "name": "stdout",
     "output_type": "stream",
     "text": [
      "Dimension of Local Data Sub-Manifold: 7\n"
     ]
    }
   ],
   "source": [
    "# Construct the constrained coordinates\n",
    "B_BP = ld.default_B(S, 1, cp.get_array_module(X_train[0]))\n",
    "print(f\"Dimension of Local Data Sub-Manifold: {D - B_BP.shape[0]}\")\n",
    "\n",
    "# Compute every datapoint's eta_hat (served as the linear constraints)\n",
    "eta_hat_class = []\n",
    "\n",
    "for class_ in unique_labels:\n",
    "    eta_hat_list = []\n",
    "    for i in range(X_train_class[class_].shape[0]):\n",
    "        xp = cp.get_array_module(X_train_class[class_][i])\n",
    "        P = (X_train_class[class_][i].reshape(*S) + eps) / scaleX_class[class_][i]\n",
    "        eta_hat = ld.get_eta(P, len(S), xp)\n",
    "        eta_hat_list.append(eta_hat)\n",
    "    eta_hat_list = cp.asarray(eta_hat_list)\n",
    "\n",
    "    eta_hat_class.append(eta_hat_list)"
   ]
  },
  {
   "cell_type": "markdown",
   "metadata": {},
   "source": [
    "#### Backward Projection"
   ]
  },
  {
   "cell_type": "code",
   "execution_count": 9,
   "metadata": {},
   "outputs": [
    {
     "name": "stdout",
     "output_type": "stream",
     "text": [
      "Warning: Not Converged. Consider increasing the number of iterations.\n",
      "Warning: Not Converged. Consider increasing the number of iterations.\n",
      "Warning: Not Converged. Consider increasing the number of iterations.\n",
      "Warning: Not Converged. Consider increasing the number of iterations.\n",
      "Warning: Not Converged. Consider increasing the number of iterations.\n",
      "Warning: Not Converged. Consider increasing the number of iterations.\n",
      "Warning: Not Converged. Consider increasing the number of iterations.\n",
      "Warning: Not Converged. Consider increasing the number of iterations.\n",
      "Warning: Not Converged. Consider increasing the number of iterations.\n"
     ]
    }
   ],
   "source": [
    "def BP_helper(i, class_):\n",
    "    N = ld.kNN(sampled_theta_class[class_][i], np.array(theta_class[class_]), k=k)\n",
    "    avg_scale = np.mean(np.array(scaleX_class[class_])[N])\n",
    "    avg_eta_hat = np.mean(eta_hat_class[class_][N], axis=0)\n",
    "\n",
    "    _, _, P, theta = ld.BP(sampled_theta_class[class_][i], [(X_train_class[class_][j].reshape(*S) + eps) / scaleX_class[class_][j] for j in N], avg_eta_hat, avg_scale, B=B_BP, verbose=False, n_iter=1000, lr=5e-2, exit_abs=True)\n",
    "    X_recons_ = P.reshape(-1)\n",
    "    return (theta, X_recons_)\n",
    "\n",
    "results = Parallel(n_jobs=30)(delayed(BP_helper)(i, class_) for i in range(new_sample_size_per_digit) for class_ in unique_labels)\n",
    "\n",
    "sampled_theta_BP_class = []\n",
    "sampled_X_BP_class = []\n",
    "\n",
    "for class_ in unique_labels:\n",
    "    sampled_theta_BP = []\n",
    "    sampled_X_BP = []\n",
    "    for i in range(new_sample_size_per_digit):\n",
    "        result = results[i + new_sample_size_per_digit * class_]\n",
    "\n",
    "        sampled_theta_BP.append(result[0])\n",
    "        sampled_X_BP.append(result[1])\n",
    "\n",
    "    sampled_theta_BP_class.append(np.array(sampled_theta_BP))\n",
    "    sampled_X_BP_class.append(np.array(sampled_X_BP))"
   ]
  },
  {
   "cell_type": "markdown",
   "metadata": {},
   "source": [
    "## Data Augmentation with Autoencoder"
   ]
  },
  {
   "cell_type": "code",
   "execution_count": 10,
   "metadata": {},
   "outputs": [],
   "source": [
    "class Encoder(nn.Module):\n",
    "    def __init__(self, input_size=D, hidden_size=B_LD.shape[0], z_dim=3):\n",
    "        super().__init__()\n",
    "        self.fc1 = nn.Linear(input_size, hidden_size)\n",
    "        self.fc2 = nn.Linear(hidden_size, z_dim)\n",
    "        self.relu = nn.ReLU()\n",
    "    def forward(self , x):\n",
    "        x = self.relu(self.fc1(x))\n",
    "        x = self.fc2(x)\n",
    "        return x\n",
    "\n",
    "class Decoder(nn.Module):\n",
    "    def __init__(self, output_size=D, hidden_size=B_LD.shape[0], z_dim=3):\n",
    "        super().__init__()\n",
    "        self.fc1 = nn.Linear(z_dim , hidden_size)\n",
    "        self.fc2 = nn.Linear(hidden_size, output_size)\n",
    "        self.relu = nn.ReLU()\n",
    "    def forward(self , x):\n",
    "        x = self.relu(self.fc1(x))\n",
    "        x = torch.sigmoid(self.fc2(x))\n",
    "        return x"
   ]
  },
  {
   "cell_type": "code",
   "execution_count": 11,
   "metadata": {},
   "outputs": [],
   "source": [
    "train_loader_original = DataLoader(dataset=train_dataset, batch_size=64, shuffle=True)\n",
    "\n",
    "enc = Encoder().to(device)\n",
    "dec = Decoder().to(device)\n",
    "loss_fn = nn.MSELoss()\n",
    "optimizer_enc = torch.optim.Adam(enc.parameters())\n",
    "optimizer_dec = torch.optim.Adam(dec.parameters())"
   ]
  },
  {
   "cell_type": "code",
   "execution_count": 12,
   "metadata": {},
   "outputs": [
    {
     "name": "stderr",
     "output_type": "stream",
     "text": [
      "100%|██████████| 200/200 [02:08<00:00,  1.56it/s]\n"
     ]
    },
    {
     "data": {
      "text/plain": [
       "[<matplotlib.lines.Line2D at 0x7f3df8f64b90>]"
      ]
     },
     "execution_count": 12,
     "metadata": {},
     "output_type": "execute_result"
    },
    {
     "data": {
      "image/png": "[encoded data removed]",
      "text/plain": [
       "<Figure size 640x480 with 1 Axes>"
      ]
     },
     "metadata": {},
     "output_type": "display_data"
    }
   ],
   "source": [
    "train_loss = []\n",
    "num_epochs = 200\n",
    "\n",
    "for epoch in tqdm(range(num_epochs)):\n",
    "    train_epoch_loss = 0\n",
    "    for (x , _) in train_loader_original:\n",
    "        x = x.to(device)\n",
    "        x = x.flatten(1)\n",
    "        latents = enc(x)\n",
    "        output = dec(latents)\n",
    "        loss = loss_fn(output , x)\n",
    "        train_epoch_loss += loss.cpu().detach().numpy()\n",
    "        optimizer_enc.zero_grad()\n",
    "        optimizer_dec.zero_grad()\n",
    "        loss.backward()\n",
    "        optimizer_enc.step()\n",
    "        optimizer_dec.step()\n",
    "    train_loss.append(train_epoch_loss)\n",
    "plt.plot(train_loss)"
   ]
  },
  {
   "cell_type": "code",
   "execution_count": 13,
   "metadata": {},
   "outputs": [],
   "source": [
    "representation = None\n",
    "all_labels = []\n",
    "\n",
    "with torch.no_grad():\n",
    "    for (xs , labels) in train_loader_original:\n",
    "        xs = xs.to(device)\n",
    "        xs = xs.flatten(1)\n",
    "        all_labels.extend(list(labels.numpy()))\n",
    "        latents = enc(xs)\n",
    "        if representation is None:\n",
    "            representation = latents.cpu()\n",
    "        else:\n",
    "            representation = torch.vstack([representation , latents.cpu()])\n",
    "\n",
    "all_labels = np.array(all_labels)\n",
    "representation = representation.numpy()"
   ]
  },
  {
   "cell_type": "code",
   "execution_count": 14,
   "metadata": {},
   "outputs": [],
   "source": [
    "sampled_X_AE_class = []\n",
    "\n",
    "for class_ in unique_labels:\n",
    "    sampled_X_AE_list = []\n",
    "\n",
    "    rep = representation[np.argwhere(all_labels == class_)].squeeze()\n",
    "    # Fit a KDE to the theta values\n",
    "    kde = KernelDensity(kernel='gaussian', bandwidth=bandwidth_AE).fit(rep)\n",
    "\n",
    "    # Sample new data from the KDE\n",
    "    sampled_rep = kde.sample(n_samples=new_sample_size_per_digit)\n",
    "    for i in range(new_sample_size_per_digit):\n",
    "        pred = dec(torch.Tensor(sampled_rep[i])[None , ...].to(device)).cpu().detach().numpy()\n",
    "        sampled_X_AE_list.append(pred.flatten())\n",
    "\n",
    "    sampled_X_AE_class.append(sampled_X_AE_list)"
   ]
  },
  {
   "cell_type": "markdown",
   "metadata": {},
   "source": [
    "## Classification Performance"
   ]
  },
  {
   "cell_type": "markdown",
   "metadata": {},
   "source": [
    "### Dataset Preparation"
   ]
  },
  {
   "cell_type": "code",
   "execution_count": 15,
   "metadata": {},
   "outputs": [
    {
     "name": "stdout",
     "output_type": "stream",
     "text": [
      "standard loader:\n",
      "Images shape: torch.Size([64, 12]), Labels shape: torch.Size([64])\n",
      "none loader:\n",
      "Images shape: torch.Size([64, 12]), Labels shape: torch.Size([64])\n",
      "PNL_augmented loader:\n",
      "Images shape: torch.Size([64, 12]), Labels shape: torch.Size([64])\n",
      "AE_augmented loader:\n",
      "Images shape: torch.Size([64, 12]), Labels shape: torch.Size([64])\n"
     ]
    }
   ],
   "source": [
    "# Helper function to create a DataLoader for augmented datasets\n",
    "def prepare_augmented_dataset(original_dataset, augmented_data, augmented_labels, transform, batch_size):\n",
    "    # Create dataset from augmented data\n",
    "    augmented_dataset = NumpyDataset(features=augmented_data, labels=augmented_labels, transform=transform)\n",
    "\n",
    "    # Combine with the original dataset\n",
    "    combined_dataset = ConcatDataset([original_dataset, augmented_dataset])\n",
    "\n",
    "    # Create a DataLoader for the combined dataset\n",
    "    return DataLoader(dataset=combined_dataset, batch_size=batch_size, shuffle=True)\n",
    "\n",
    "# Main function to prepare datasets and loaders\n",
    "def create_datasets_and_loaders(batch_size=64):\n",
    "    # Define transformations\n",
    "    transform_standard = CompositeTransform([\n",
    "        Normalize(mean, std),\n",
    "        AddGaussianNoise(mean=0.0, std=std[:-1].min()/4)  # Add Gaussian noise with 1/4 of the standard deviation (omit the last dummy feature)\n",
    "    ])\n",
    "    transform_none = Normalize(mean, std)\n",
    "\n",
    "    train_standard = NumpyDataset(X_train, Y_train, transform=transform_standard)\n",
    "    train_none = NumpyDataset(X_train, Y_train, transform=transform_none)\n",
    "\n",
    "    augmented_data_PNL = []\n",
    "    labels_PNL = []\n",
    "    augmented_data_AE = []\n",
    "    labels_AE = []\n",
    "\n",
    "    for class_ in range(len(unique_labels)):\n",
    "        for data_PNL in sampled_X_BP_class[class_]:\n",
    "            augmented_data_PNL.append(data_PNL)\n",
    "            labels_PNL.append(class_)\n",
    "\n",
    "        for data_AE in sampled_X_AE_class[class_]:\n",
    "            augmented_data_AE.append(data_AE)\n",
    "            labels_AE.append(class_)\n",
    "\n",
    "    augmented_data_PNL = np.array(augmented_data_PNL)\n",
    "    labels_PNL = np.array(labels_PNL)\n",
    "    augmented_data_AE = np.array(augmented_data_AE)\n",
    "    labels_AE = np.array(labels_AE)\n",
    "\n",
    "    mean_LD = augmented_data_PNL.mean(axis=0)\n",
    "    std_LD = augmented_data_PNL.std(axis=0)\n",
    "    transform_none_LD = Normalize(mean_LD, std_LD)\n",
    "\n",
    "    mean_AE = augmented_data_AE.mean(axis=0)\n",
    "    std_AE = augmented_data_AE.std(axis=0)\n",
    "    transform_none_AE = Normalize(mean_AE, std_AE)\n",
    "\n",
    "    # Combine original with augmented data\n",
    "    train_loader_PNL = prepare_augmented_dataset(train_none, augmented_data_PNL, labels_PNL, transform_none_LD, batch_size)\n",
    "    train_loader_AE = prepare_augmented_dataset(train_none, augmented_data_AE, labels_AE, transform_none_AE, batch_size)\n",
    "\n",
    "    # DataLoader for the original dataset only\n",
    "    train_loader_standard = DataLoader(train_standard, batch_size=batch_size, shuffle=True)\n",
    "    train_loader_none = DataLoader(train_none, batch_size=batch_size, shuffle=True)\n",
    "\n",
    "    return {\n",
    "        \"standard\": train_loader_standard,\n",
    "        \"none\": train_loader_none,\n",
    "        \"PNL_augmented\": train_loader_PNL,\n",
    "        \"AE_augmented\": train_loader_AE,\n",
    "    }\n",
    "\n",
    "loaders = create_datasets_and_loaders(batch_size=64)\n",
    "\n",
    "# Check each DataLoader\n",
    "for name, loader in loaders.items():\n",
    "    print(f\"{name} loader:\")\n",
    "    for images, labels in loader:\n",
    "        print(f\"Images shape: {images.shape}, Labels shape: {labels.shape}\")\n",
    "        break\n",
    "\n",
    "train_loader_standard = loaders[\"standard\"]\n",
    "train_loader_none = loaders[\"none\"]\n",
    "train_loader_PNL = loaders[\"PNL_augmented\"]\n",
    "train_loader_AE = loaders[\"AE_augmented\"]"
   ]
  },
  {
   "cell_type": "markdown",
   "metadata": {},
   "source": [
    "### MLP Model"
   ]
  },
  {
   "cell_type": "code",
   "execution_count": 16,
   "metadata": {},
   "outputs": [],
   "source": [
    "class MLP(nn.Module):\n",
    "    def __init__(self, input_size, hidden_size=8, num_classes=len(unique_labels)):\n",
    "        super(MLP, self).__init__()\n",
    "        self.input_size = input_size\n",
    "        self.hidden_layer = nn.Linear(input_size, hidden_size)\n",
    "        self.output_layer = nn.Linear(hidden_size, num_classes)\n",
    "        self.activation = nn.ReLU()\n",
    "\n",
    "    def forward(self, x):\n",
    "        x = x.view(-1, self.input_size)  # Flatten the input\n",
    "        x = self.activation(self.hidden_layer(x))  # Apply hidden layer + ReLU\n",
    "        x = self.output_layer(x)  # Apply output layer\n",
    "        return x\n",
    "\n",
    "def train_model(model, train_loader, criterion, optimizer, scheduler, num_epochs, device='cuda'):\n",
    "    model.to(device)\n",
    "    for epoch in range(num_epochs):\n",
    "        model.train()\n",
    "        running_loss = 0.0\n",
    "\n",
    "        for features, labels in train_loader:\n",
    "            features, labels = features.to(device), labels.to(device)\n",
    "            optimizer.zero_grad()\n",
    "            outputs = model(features)\n",
    "            loss = criterion(outputs, labels)\n",
    "            loss.backward()\n",
    "            optimizer.step()\n",
    "\n",
    "            running_loss += loss.item()\n",
    "\n",
    "        scheduler.step()\n",
    "        print(f\"Epoch [{epoch+1}/{num_epochs}], Loss: {running_loss/len(train_loader):.4f}\")\n",
    "\n",
    "def test_model(model, test_loader, device='cuda'):\n",
    "    model.eval()\n",
    "    correct = 0\n",
    "    total = 0\n",
    "\n",
    "    with torch.no_grad():\n",
    "        for features, labels in test_loader:\n",
    "            features, labels = features.to(device), labels.to(device)\n",
    "            outputs = model(features)\n",
    "            _, predicted = torch.max(outputs.data, 1)\n",
    "            total += labels.size(0)\n",
    "            correct += (predicted == labels).sum().item()\n",
    "\n",
    "    accuracy = 100 * correct / total\n",
    "    return accuracy\n",
    "\n",
    "def bootstrapping(train_loader, test_dataset, num_epochs=10, learning_rate=1e-1, n_bootstrap=20, device='cuda'):\n",
    "    \"\"\"\n",
    "    Train the Logistic Regression model on the training dataset, and evaluate it using bootstrapping on the test dataset.\n",
    "\n",
    "    Args:\n",
    "        train_loader: DataLoader for training data.\n",
    "        test_dataset: Dataset object for the test data.\n",
    "        num_epochs: Number of epochs for training.\n",
    "        learning_rate: Learning rate for the optimizer.\n",
    "        device: Device to run the training on ('cuda' or 'cpu').\n",
    "\n",
    "    Returns:\n",
    "        Prints the mean accuracy and 95% confidence interval after bootstrapping.\n",
    "    \"\"\"\n",
    "    # Initialize the model, loss, and optimizer\n",
    "    model = MLP(input_size=D ,num_classes=len(unique_labels)).to(device)\n",
    "    criterion = nn.CrossEntropyLoss()\n",
    "    # optimizer = torch.optim.SGD(model.parameters(), lr=learning_rate)\n",
    "    optimizer = torch.optim.SGD(model.parameters(), lr=learning_rate, momentum=0.9, weight_decay=5e-4)\n",
    "    scheduler = torch.optim.lr_scheduler.StepLR(optimizer, step_size=30, gamma=0.1)  # Decay LR every 30 epochs\n",
    "\n",
    "    # Train the model\n",
    "    train_model(model, train_loader, criterion, optimizer, scheduler, num_epochs=num_epochs, device=device)\n",
    "\n",
    "    # Perform bootstrapping\n",
    "    accuracies = []\n",
    "\n",
    "    num_test_samples = len(test_dataset) // 2\n",
    "    for i in range(n_bootstrap):\n",
    "        indices = torch.randint(len(test_dataset), size=(num_test_samples,))\n",
    "        bootstrap_subset = Subset(test_dataset, indices)\n",
    "        bootstrap_loader = DataLoader(dataset=bootstrap_subset, batch_size=num_test_samples, shuffle=False)\n",
    "\n",
    "        accuracy = test_model(model, bootstrap_loader, device=device)\n",
    "        accuracies.append(accuracy)\n",
    "\n",
    "    # Compute statistics\n",
    "    mean_accuracy = np.mean(accuracies)\n",
    "    std_accuracy = np.std(accuracies)\n",
    "\n",
    "    print(f\"Mean accuracy: {mean_accuracy:.2f}%\")\n",
    "    print(f\"Standard deviation: {std_accuracy:.2f}\")"
   ]
  },
  {
   "cell_type": "markdown",
   "metadata": {},
   "source": [
    "### Dataset Performance"
   ]
  },
  {
   "cell_type": "code",
   "execution_count": 17,
   "metadata": {},
   "outputs": [
    {
     "name": "stdout",
     "output_type": "stream",
     "text": [
      "Epoch [1/50], Loss: 1.2273\n",
      "Epoch [2/50], Loss: 1.0999\n",
      "Epoch [3/50], Loss: 1.0840\n",
      "Epoch [4/50], Loss: 1.0702\n",
      "Epoch [5/50], Loss: 1.0739\n",
      "Epoch [6/50], Loss: 1.0713\n",
      "Epoch [7/50], Loss: 1.0714\n",
      "Epoch [8/50], Loss: 1.0704\n",
      "Epoch [9/50], Loss: 1.0686\n",
      "Epoch [10/50], Loss: 1.0616\n",
      "Epoch [11/50], Loss: 1.0707\n",
      "Epoch [12/50], Loss: 1.0627\n",
      "Epoch [13/50], Loss: 1.0640\n",
      "Epoch [14/50], Loss: 1.0636\n",
      "Epoch [15/50], Loss: 1.0579\n",
      "Epoch [16/50], Loss: 1.0639\n",
      "Epoch [17/50], Loss: 1.0556\n",
      "Epoch [18/50], Loss: 1.0565\n",
      "Epoch [19/50], Loss: 1.0567\n",
      "Epoch [20/50], Loss: 1.0639\n",
      "Epoch [21/50], Loss: 1.0622\n",
      "Epoch [22/50], Loss: 1.0703\n",
      "Epoch [23/50], Loss: 1.0556\n",
      "Epoch [24/50], Loss: 1.0529\n",
      "Epoch [25/50], Loss: 1.0581\n",
      "Epoch [26/50], Loss: 1.0561\n",
      "Epoch [27/50], Loss: 1.0565\n",
      "Epoch [28/50], Loss: 1.0538\n",
      "Epoch [29/50], Loss: 1.0610\n",
      "Epoch [30/50], Loss: 1.0605\n",
      "Epoch [31/50], Loss: 1.0296\n",
      "Epoch [32/50], Loss: 1.0184\n",
      "Epoch [33/50], Loss: 1.0223\n",
      "Epoch [34/50], Loss: 1.0179\n",
      "Epoch [35/50], Loss: 1.0225\n",
      "Epoch [36/50], Loss: 1.0160\n",
      "Epoch [37/50], Loss: 1.0180\n",
      "Epoch [38/50], Loss: 1.0207\n",
      "Epoch [39/50], Loss: 1.0166\n",
      "Epoch [40/50], Loss: 1.0178\n",
      "Epoch [41/50], Loss: 1.0197\n",
      "Epoch [42/50], Loss: 1.0169\n",
      "Epoch [43/50], Loss: 1.0148\n",
      "Epoch [44/50], Loss: 1.0146\n",
      "Epoch [45/50], Loss: 1.0123\n",
      "Epoch [46/50], Loss: 1.0158\n",
      "Epoch [47/50], Loss: 1.0136\n",
      "Epoch [48/50], Loss: 1.0139\n",
      "Epoch [49/50], Loss: 1.0154\n",
      "Epoch [50/50], Loss: 1.0134\n",
      "Mean accuracy: 56.90%\n",
      "Standard deviation: 1.55\n"
     ]
    }
   ],
   "source": [
    "bootstrapping(train_loader_none, test_dataset, num_epochs=50, learning_rate=0.1, device=device)"
   ]
  },
  {
   "cell_type": "code",
   "execution_count": 18,
   "metadata": {},
   "outputs": [
    {
     "name": "stdout",
     "output_type": "stream",
     "text": [
      "Epoch [1/50], Loss: 1.2329\n",
      "Epoch [2/50], Loss: 1.1050\n",
      "Epoch [3/50], Loss: 1.0896\n",
      "Epoch [4/50], Loss: 1.0901\n",
      "Epoch [5/50], Loss: 1.0809\n",
      "Epoch [6/50], Loss: 1.0720\n",
      "Epoch [7/50], Loss: 1.0741\n",
      "Epoch [8/50], Loss: 1.0682\n",
      "Epoch [9/50], Loss: 1.0719\n",
      "Epoch [10/50], Loss: 1.0644\n",
      "Epoch [11/50], Loss: 1.0616\n",
      "Epoch [12/50], Loss: 1.0692\n",
      "Epoch [13/50], Loss: 1.0590\n",
      "Epoch [14/50], Loss: 1.0693\n",
      "Epoch [15/50], Loss: 1.0698\n",
      "Epoch [16/50], Loss: 1.0522\n",
      "Epoch [17/50], Loss: 1.0552\n",
      "Epoch [18/50], Loss: 1.0537\n",
      "Epoch [19/50], Loss: 1.0555\n",
      "Epoch [20/50], Loss: 1.0557\n",
      "Epoch [21/50], Loss: 1.0581\n",
      "Epoch [22/50], Loss: 1.0601\n",
      "Epoch [23/50], Loss: 1.0549\n",
      "Epoch [24/50], Loss: 1.0477\n",
      "Epoch [25/50], Loss: 1.0487\n",
      "Epoch [26/50], Loss: 1.0525\n",
      "Epoch [27/50], Loss: 1.0518\n",
      "Epoch [28/50], Loss: 1.0520\n",
      "Epoch [29/50], Loss: 1.0526\n",
      "Epoch [30/50], Loss: 1.0509\n",
      "Epoch [31/50], Loss: 1.0295\n",
      "Epoch [32/50], Loss: 1.0200\n",
      "Epoch [33/50], Loss: 1.0198\n",
      "Epoch [34/50], Loss: 1.0177\n",
      "Epoch [35/50], Loss: 1.0156\n",
      "Epoch [36/50], Loss: 1.0152\n",
      "Epoch [37/50], Loss: 1.0179\n",
      "Epoch [38/50], Loss: 1.0165\n",
      "Epoch [39/50], Loss: 1.0142\n",
      "Epoch [40/50], Loss: 1.0151\n",
      "Epoch [41/50], Loss: 1.0136\n",
      "Epoch [42/50], Loss: 1.0160\n",
      "Epoch [43/50], Loss: 1.0168\n",
      "Epoch [44/50], Loss: 1.0121\n",
      "Epoch [45/50], Loss: 1.0150\n",
      "Epoch [46/50], Loss: 1.0102\n",
      "Epoch [47/50], Loss: 1.0156\n",
      "Epoch [48/50], Loss: 1.0162\n",
      "Epoch [49/50], Loss: 1.0141\n",
      "Epoch [50/50], Loss: 1.0111\n",
      "Mean accuracy: 57.07%\n",
      "Standard deviation: 2.10\n"
     ]
    }
   ],
   "source": [
    "bootstrapping(train_loader_standard, test_dataset, num_epochs=50, learning_rate=0.1, device=device)"
   ]
  },
  {
   "cell_type": "code",
   "execution_count": 19,
   "metadata": {},
   "outputs": [
    {
     "name": "stdout",
     "output_type": "stream",
     "text": [
      "Epoch [1/50], Loss: 1.4651\n",
      "Epoch [2/50], Loss: 1.3870\n",
      "Epoch [3/50], Loss: 1.3758\n",
      "Epoch [4/50], Loss: 1.3548\n",
      "Epoch [5/50], Loss: 1.3365\n",
      "Epoch [6/50], Loss: 1.3395\n",
      "Epoch [7/50], Loss: 1.3345\n",
      "Epoch [8/50], Loss: 1.3333\n",
      "Epoch [9/50], Loss: 1.3311\n",
      "Epoch [10/50], Loss: 1.3297\n",
      "Epoch [11/50], Loss: 1.3233\n",
      "Epoch [12/50], Loss: 1.3297\n",
      "Epoch [13/50], Loss: 1.3231\n",
      "Epoch [14/50], Loss: 1.3237\n",
      "Epoch [15/50], Loss: 1.3132\n",
      "Epoch [16/50], Loss: 1.3221\n",
      "Epoch [17/50], Loss: 1.3213\n",
      "Epoch [18/50], Loss: 1.3220\n",
      "Epoch [19/50], Loss: 1.3164\n",
      "Epoch [20/50], Loss: 1.3253\n",
      "Epoch [21/50], Loss: 1.3186\n",
      "Epoch [22/50], Loss: 1.3196\n",
      "Epoch [23/50], Loss: 1.3152\n",
      "Epoch [24/50], Loss: 1.3112\n",
      "Epoch [25/50], Loss: 1.3143\n",
      "Epoch [26/50], Loss: 1.3184\n",
      "Epoch [27/50], Loss: 1.3111\n",
      "Epoch [28/50], Loss: 1.3108\n",
      "Epoch [29/50], Loss: 1.3185\n",
      "Epoch [30/50], Loss: 1.3165\n",
      "Epoch [31/50], Loss: 1.2881\n",
      "Epoch [32/50], Loss: 1.2777\n",
      "Epoch [33/50], Loss: 1.2754\n",
      "Epoch [34/50], Loss: 1.2721\n",
      "Epoch [35/50], Loss: 1.2729\n",
      "Epoch [36/50], Loss: 1.2722\n",
      "Epoch [37/50], Loss: 1.2715\n",
      "Epoch [38/50], Loss: 1.2708\n",
      "Epoch [39/50], Loss: 1.2691\n",
      "Epoch [40/50], Loss: 1.2715\n",
      "Epoch [41/50], Loss: 1.2696\n",
      "Epoch [42/50], Loss: 1.2695\n",
      "Epoch [43/50], Loss: 1.2703\n",
      "Epoch [44/50], Loss: 1.2712\n",
      "Epoch [45/50], Loss: 1.2692\n",
      "Epoch [46/50], Loss: 1.2686\n",
      "Epoch [47/50], Loss: 1.2690\n",
      "Epoch [48/50], Loss: 1.2716\n",
      "Epoch [49/50], Loss: 1.2693\n",
      "Epoch [50/50], Loss: 1.2694\n",
      "Mean accuracy: 58.12%\n",
      "Standard deviation: 2.05\n"
     ]
    }
   ],
   "source": [
    "bootstrapping(train_loader_PNL, test_dataset, num_epochs=50, learning_rate=0.1, device=device)"
   ]
  },
  {
   "cell_type": "code",
   "execution_count": 20,
   "metadata": {},
   "outputs": [
    {
     "name": "stdout",
     "output_type": "stream",
     "text": [
      "Epoch [1/50], Loss: 1.4360\n",
      "Epoch [2/50], Loss: 1.3269\n",
      "Epoch [3/50], Loss: 1.3015\n",
      "Epoch [4/50], Loss: 1.2860\n",
      "Epoch [5/50], Loss: 1.2620\n",
      "Epoch [6/50], Loss: 1.2439\n",
      "Epoch [7/50], Loss: 1.2238\n",
      "Epoch [8/50], Loss: 1.2268\n",
      "Epoch [9/50], Loss: 1.2034\n",
      "Epoch [10/50], Loss: 1.1910\n",
      "Epoch [11/50], Loss: 1.1946\n",
      "Epoch [12/50], Loss: 1.1871\n",
      "Epoch [13/50], Loss: 1.1944\n",
      "Epoch [14/50], Loss: 1.1750\n",
      "Epoch [15/50], Loss: 1.1745\n",
      "Epoch [16/50], Loss: 1.1723\n",
      "Epoch [17/50], Loss: 1.1717\n",
      "Epoch [18/50], Loss: 1.1723\n",
      "Epoch [19/50], Loss: 1.1782\n",
      "Epoch [20/50], Loss: 1.1672\n",
      "Epoch [21/50], Loss: 1.1752\n",
      "Epoch [22/50], Loss: 1.1779\n",
      "Epoch [23/50], Loss: 1.1713\n",
      "Epoch [24/50], Loss: 1.1686\n",
      "Epoch [25/50], Loss: 1.1718\n",
      "Epoch [26/50], Loss: 1.1701\n",
      "Epoch [27/50], Loss: 1.1693\n",
      "Epoch [28/50], Loss: 1.1599\n",
      "Epoch [29/50], Loss: 1.1761\n",
      "Epoch [30/50], Loss: 1.1590\n",
      "Epoch [31/50], Loss: 1.1325\n",
      "Epoch [32/50], Loss: 1.1243\n",
      "Epoch [33/50], Loss: 1.1220\n",
      "Epoch [34/50], Loss: 1.1208\n",
      "Epoch [35/50], Loss: 1.1197\n",
      "Epoch [36/50], Loss: 1.1213\n",
      "Epoch [37/50], Loss: 1.1216\n",
      "Epoch [38/50], Loss: 1.1206\n",
      "Epoch [39/50], Loss: 1.1207\n",
      "Epoch [40/50], Loss: 1.1221\n",
      "Epoch [41/50], Loss: 1.1202\n",
      "Epoch [42/50], Loss: 1.1196\n",
      "Epoch [43/50], Loss: 1.1181\n",
      "Epoch [44/50], Loss: 1.1176\n",
      "Epoch [45/50], Loss: 1.1185\n",
      "Epoch [46/50], Loss: 1.1197\n",
      "Epoch [47/50], Loss: 1.1186\n",
      "Epoch [48/50], Loss: 1.1195\n",
      "Epoch [49/50], Loss: 1.1190\n",
      "Epoch [50/50], Loss: 1.1191\n",
      "Mean accuracy: 56.61%\n",
      "Standard deviation: 1.84\n"
     ]
    }
   ],
   "source": [
    "bootstrapping(train_loader_AE, test_dataset, num_epochs=50, learning_rate=0.1, device=device)"
   ]
  },
  {
   "cell_type": "code",
   "execution_count": null,
   "metadata": {},
   "outputs": [],
   "source": []
  }
 ],
 "metadata": {
  "kernelspec": {
   "display_name": "ig",
   "language": "python",
   "name": "python3"
  },
  "language_info": {
   "codemirror_mode": {
    "name": "ipython",
    "version": 3
   },
   "file_extension": ".py",
   "mimetype": "text/x-python",
   "name": "python",
   "nbconvert_exporter": "python",
   "pygments_lexer": "ipython3",
   "version": "3.11.9"
  }
 },
 "nbformat": 4,
 "nbformat_minor": 2
}
