{
 "cells": [
  {
   "cell_type": "markdown",
   "metadata": {},
   "source": [
    "# Logistic Regression with UCI Dataset"
   ]
  },
  {
   "cell_type": "code",
   "execution_count": 1,
   "metadata": {},
   "outputs": [],
   "source": [
    "\n",
    "import os\n",
    "os.environ[\"PYTHONWARNINGS\"] = \"ignore\"\n",
    "\n",
    "import warnings\n",
    "warnings.filterwarnings('ignore')\n",
    "\n",
    "import sys\n",
    "sys.path.append('../')\n",
    "\n",
    "import numpy as np\n",
    "import matplotlib.pyplot as plt\n",
    "from sklearn.linear_model import LogisticRegression\n",
    "\n",
    "from sklearn.preprocessing import LabelEncoder\n",
    "from ucimlrepo import fetch_ucirepo\n",
    "\n",
    "from ld import LD, BP, get_eta\n",
    "\n",
    "import itertools"
   ]
  },
  {
   "cell_type": "code",
   "execution_count": 2,
   "metadata": {},
   "outputs": [],
   "source": [
    "def block_B(start_idx, end_idx):\n",
    "    \"\"\"\n",
    "    Create a block B of indexes for the center region.\n",
    "\n",
    "    Parameters:\n",
    "    - start_idx: int, the starting index of the center region\n",
    "    - end_idx: int, the ending index of the center region\n",
    "\n",
    "    Returns:\n",
    "    - center_region_indexes: numpy array with shape (n, 2), the indexes of the center region\n",
    "    \"\"\"\n",
    "    # Create the index grid\n",
    "    x, y = np.meshgrid(np.arange(start_idx, end_idx), np.arange(start_idx, end_idx))\n",
    "\n",
    "    # Flatten the arrays and stack them as coordinate pairs\n",
    "    center_region_indexes = np.column_stack((x.flatten(), y.flatten()))\n",
    "\n",
    "    return center_region_indexes"
   ]
  },
  {
   "cell_type": "code",
   "execution_count": 3,
   "metadata": {},
   "outputs": [],
   "source": [
    "def compute_Q(theta):\n",
    "        r\"\"\"Compute decomposable tensor Q from parameter \\theta using Dynamic Programming.\n",
    "\n",
    "        Parameters\n",
    "        ----------\n",
    "        theta : array\n",
    "            second/third-order tensor.\n",
    "            Same shapes as input tensor P.\n",
    "\n",
    "        beta : list\n",
    "            sets of decomposition basis vectors.\n",
    "\n",
    "        Returns\n",
    "        -------\n",
    "        Q : array\n",
    "            second/third-order tensor.\n",
    "            Decomposable tensor.\n",
    "        \"\"\"\n",
    "        idx = theta.shape\n",
    "        order = len(theta.shape)\n",
    "        theta_sum = np.zeros(theta.shape)\n",
    "\n",
    "        if order == 2:\n",
    "            theta_sum[0, 0] = theta[0, 0]\n",
    "\n",
    "            # update outside eta.\n",
    "            for i in range(1, idx[0]):\n",
    "                theta_sum[i, 0] = theta[i, 0] + theta_sum[i-1, 0]\n",
    "            for j in range(1, idx[1]):\n",
    "                theta_sum[0, j] = theta[0, j] + theta_sum[0, j-1]\n",
    "\n",
    "            # update internal eta.\n",
    "            for i in range(1, idx[0]):\n",
    "                for j in range(1, idx[1]):\n",
    "                    theta_sum[i, j] = theta[i, j] + theta_sum[i-1, j] \\\n",
    "                                        + theta_sum[i, j-1] - theta_sum[i-1, j-1]\n",
    "\n",
    "        elif order == 3:\n",
    "            theta_sum[0, 0, 0] = theta[0, 0, 0]\n",
    "\n",
    "            # update outside eta.\n",
    "            for i in range(1, idx[0]):\n",
    "                theta_sum[i, 0, 0] = theta[i, 0, 0] + theta_sum[i-1, 0, 0]\n",
    "            for j in range(1, idx[1]):\n",
    "                theta_sum[0, j, 0] = theta[0, j, 0] + theta_sum[0, j-1, 0]\n",
    "            for k in range(1, idx[2]):\n",
    "                theta_sum[0, 0, k] = theta[0, 0, k] + theta_sum[0, 0, k-1]\n",
    "\n",
    "            # update internal eta.\n",
    "            for i, j in itertools.product(range(1, idx[0]), range(1, idx[1])):\n",
    "                theta_sum[i, j, 0] = theta[i, j, 0] + theta_sum[i-1, j, 0] \\\n",
    "                                        + theta_sum[i, j-1, 0] - theta_sum[i-1, j-1, 0]\n",
    "            for j, k in itertools.product(range(1, idx[1]), range(1, idx[2])):\n",
    "                theta_sum[0, j, k] = theta[0, j, k] + theta_sum[0, j-1, k] \\\n",
    "                                        + theta_sum[0, j, k-1] - theta_sum[0, j-1, k-1]\n",
    "            for i, k in itertools.product(range(1, idx[0]), range(1, idx[2])):\n",
    "                theta_sum[i, 0, k] = theta[i, 0, k] + theta_sum[i-1, 0, k] \\\n",
    "                                        + theta_sum[i, 0, k-1] - theta_sum[i-1, 0, k-1]\n",
    "\n",
    "            for i, j, k in itertools.product(range(1, idx[0]), range(1, idx[1]), range(1, idx[2])):\n",
    "                theta_sum[i, j, k] = theta[i, j, k] + theta_sum[i-1, j, k] + theta_sum[i, j-1, k] \\\n",
    "                                    + theta_sum[i, j, k-1] - theta_sum[i-1, j-1, k] - theta_sum[i-1, j, k-1] \\\n",
    "                                    - theta_sum[i, j-1, k-1] + theta_sum[i-1, j-1, k-1]\n",
    "\n",
    "        else:\n",
    "            raise NotImplementedError(\"Order of input tensor should be 2 or 3. Order: {}.\".format(order))\n",
    "\n",
    "        Q = np.exp(theta_sum)\n",
    "        psi = Q.sum()\n",
    "        Q /= psi\n",
    "\n",
    "        return Q"
   ]
  },
  {
   "cell_type": "markdown",
   "metadata": {},
   "source": [
    "## Basic Logistic Regression"
   ]
  },
  {
   "cell_type": "code",
   "execution_count": 4,
   "metadata": {},
   "outputs": [],
   "source": [
    "UCI_id = 856\n",
    "test_size = 50"
   ]
  },
  {
   "cell_type": "code",
   "execution_count": 5,
   "metadata": {},
   "outputs": [
    {
     "name": "stdout",
     "output_type": "stream",
     "text": [
      "Shape of features: (145, 31)\n",
      "Shape of labels: (145,)\n",
      "Unique labels: [0 1 2 3 4 5 6 7]\n",
      "Shape of features: (95, 30)\n"
     ]
    }
   ],
   "source": [
    "UCI_dataset = fetch_ucirepo(id=UCI_id)\n",
    "\n",
    "X = np.array(UCI_dataset.data.features)\n",
    "Y = np.array(LabelEncoder().fit_transform(UCI_dataset.data.targets))\n",
    "\n",
    "# Print the shape of features and labels\n",
    "print(\"Shape of features:\", X.shape)\n",
    "print(\"Shape of labels:\", Y.shape)\n",
    "\n",
    "# remove the last feature of X\n",
    "X = X[:, :-1]\n",
    "# Find unique labels\n",
    "unique_labels = np.unique(Y)\n",
    "print(\"Unique labels:\", unique_labels)\n",
    "\n",
    "# Create an array of indices\n",
    "indices = np.arange(len(Y))\n",
    "np.random.shuffle(indices)\n",
    "\n",
    "# Use the shuffled indices to randomly select data for training and testing\n",
    "n_train = len(Y) - test_size\n",
    "X_train, Y_train = X[indices[:n_train]], Y[indices[:n_train]]\n",
    "X_test, Y_test = X[indices[n_train:]], Y[indices[n_train:]]\n",
    "\n",
    "print(\"Shape of features:\", X_train.shape)\n",
    "\n",
    "X_train_class = []\n",
    "Y_train_class = []\n",
    "for i in unique_labels:\n",
    "    X_train_class.append(X_train[np.isin(Y_train, i).flatten()])\n",
    "    Y_train_class.append(Y_train[np.isin(Y_train, i).flatten()])"
   ]
  },
  {
   "cell_type": "code",
   "execution_count": 6,
   "metadata": {},
   "outputs": [
    {
     "name": "stdout",
     "output_type": "stream",
     "text": [
      "Accuracy on the test set: 0.24\n"
     ]
    },
    {
     "data": {
      "image/png": "[encoded data removed]",
      "text/plain": [
       "<Figure size 640x480 with 2 Axes>"
      ]
     },
     "metadata": {},
     "output_type": "display_data"
    }
   ],
   "source": [
    "# Train a logistic classifier\n",
    "clf = LogisticRegression(max_iter=1000)\n",
    "clf.fit(X_train, Y_train)\n",
    "\n",
    "# Measure the accuracy on the test set\n",
    "accuracy = clf.score(X_test, Y_test)\n",
    "print(\"Accuracy on the test set:\", accuracy)\n",
    "\n",
    "# Optional: Display the confusion matrix\n",
    "from sklearn.metrics import confusion_matrix, ConfusionMatrixDisplay\n",
    "\n",
    "y_pred = clf.predict(X_test)\n",
    "cm = confusion_matrix(Y_test, y_pred, labels=unique_labels)\n",
    "disp = ConfusionMatrixDisplay(confusion_matrix=cm, display_labels=unique_labels)\n",
    "\n",
    "disp.plot(cmap=plt.cm.Blues)\n",
    "plt.show()"
   ]
  },
  {
   "cell_type": "markdown",
   "metadata": {},
   "source": [
    "## Data Generation"
   ]
  },
  {
   "cell_type": "code",
   "execution_count": 7,
   "metadata": {},
   "outputs": [],
   "source": [
    "import cupy as cp\n",
    "\n",
    "eta_hat_class = []\n",
    "\n",
    "for X_train_per_class in X_train_class:\n",
    "    eta_hat_list = []\n",
    "    for i in range(X_train_per_class.shape[0]):\n",
    "        x_tensor = X_train_per_class[i].reshape(2, 3, 5)\n",
    "        D = len(x_tensor.shape)\n",
    "        eps = np.asarray(1.0e-5)\n",
    "        xp = cp.get_array_module(x_tensor)\n",
    "        scaleX = xp.sum(x_tensor + eps)\n",
    "        P = (x_tensor + eps) / scaleX\n",
    "        eta_hat = get_eta(P, D, xp)\n",
    "        eta_hat_list.append(eta_hat)\n",
    "    eta_hat_class.append(cp.asarray(eta_hat_list))\n",
    "\n",
    "# eta_hat_class_list_cp = cp.asarray(eta_hat_class_list)"
   ]
  },
  {
   "cell_type": "code",
   "execution_count": 8,
   "metadata": {},
   "outputs": [
    {
     "name": "stdout",
     "output_type": "stream",
     "text": [
      "Relative Mean Squared Error (RMSE): 0.08584130228164943\n",
      "Relative Absolute Error (RAE): 0.08134332536810407\n",
      "Relative Mean Squared Error (RMSE): 0.08189028619700787\n",
      "Relative Absolute Error (RAE): 0.07705539999660267\n",
      "Relative Mean Squared Error (RMSE): 0.08916441387332133\n",
      "Relative Absolute Error (RAE): 0.08750120667234158\n",
      "Relative Mean Squared Error (RMSE): 0.08628481450334413\n",
      "Relative Absolute Error (RAE): 0.079326358554235\n",
      "Relative Mean Squared Error (RMSE): 0.05581626504442302\n",
      "Relative Absolute Error (RAE): 0.05161163927868421\n",
      "Relative Mean Squared Error (RMSE): 0.0602911504868182\n",
      "Relative Absolute Error (RAE): 0.055798850067670984\n",
      "Relative Mean Squared Error (RMSE): 0.05813502274341172\n",
      "Relative Absolute Error (RAE): 0.05470783027670504\n",
      "Relative Mean Squared Error (RMSE): 0.07358828031415521\n",
      "Relative Absolute Error (RAE): 0.0709991278354091\n"
     ]
    }
   ],
   "source": [
    "# Do a linear approximate of the m-flat submanifold: compute the average eta_hat\n",
    "avg_eta_hat_class = []\n",
    "\n",
    "for eta_hat_list in eta_hat_class:\n",
    "    mean = cp.mean(eta_hat_list, axis=0)\n",
    "    avg_eta_hat_class.append(mean)\n",
    "\n",
    "    # Compute RMSE (Relative Mean Squared Error)\n",
    "    rmse = cp.sqrt(cp.mean((eta_hat_list - mean) ** 2)) / cp.sqrt(cp.mean(eta_hat_list ** 2))\n",
    "    # Compute RAE (Relative Absolute Error)\n",
    "    rae = cp.sum(cp.abs(eta_hat_list - mean)) / cp.sum(cp.abs(eta_hat_list))\n",
    "\n",
    "    rmse_np = cp.asnumpy(rmse)\n",
    "    rae_np = cp.asnumpy(rae)\n",
    "\n",
    "    print(\"Relative Mean Squared Error (RMSE):\", rmse_np)\n",
    "    print(\"Relative Absolute Error (RAE):\", rae_np)"
   ]
  },
  {
   "cell_type": "code",
   "execution_count": 9,
   "metadata": {},
   "outputs": [],
   "source": [
    "scaleX_class = []\n",
    "Q_class = []\n",
    "theta_class = []\n",
    "\n",
    "for X_train_per_class in X_train_class:\n",
    "    # Initialize lists to store the results\n",
    "    scaleX_list = []\n",
    "    Q_list = []\n",
    "    theta_list = []\n",
    "\n",
    "    # Initialize a list to store reconstructed images\n",
    "    X_recons_list = []\n",
    "\n",
    "    for x in X_train_per_class:\n",
    "        x_tensor = x.reshape(2, 3, 5)\n",
    "        _, scaleX, Q, theta = LD(x_tensor, order=2, verbose=False, n_iter=100, lr=1e-4, exit_abs=True)\n",
    "        scaleX_list.append(scaleX)\n",
    "        Q_list.append(Q)\n",
    "        theta_list.append(theta)\n",
    "        X_recons = (Q * scaleX).astype(np.int32)\n",
    "        X_recons_list.append(X_recons)\n",
    "    scaleX_class.append(scaleX_list)\n",
    "    Q_class.append(Q_list)\n",
    "    theta_class.append(theta_list)"
   ]
  },
  {
   "cell_type": "code",
   "execution_count": 10,
   "metadata": {},
   "outputs": [],
   "source": [
    "# for i in unique_labels:\n",
    "#     plt.figure(figsize=(16, 3))\n",
    "#     for j in range(5):\n",
    "#         plt.subplot(1, 5, j + 1)\n",
    "#         plt.imshow(theta_class[i][j])\n",
    "#         plt.axis('off')\n",
    "\n",
    "#     plt.show()\n"
   ]
  },
  {
   "cell_type": "markdown",
   "metadata": {},
   "source": [
    "### Backward Projection"
   ]
  },
  {
   "cell_type": "code",
   "execution_count": 11,
   "metadata": {},
   "outputs": [],
   "source": [
    "B = block_B(2, 2)\n",
    "\n",
    "avg_scaleX_class = []\n",
    "P_BP_class = []\n",
    "theta_BP_class = []\n",
    "X_recons_class = []\n",
    "\n",
    "for i in unique_labels:\n",
    "    # Compute the avg_scaleX\n",
    "    avg_scaleX = np.mean(scaleX_class[i], axis=0)\n",
    "\n",
    "    P_list_BP = []\n",
    "    theta_list_BP = []\n",
    "\n",
    "    X_recons_list = []\n",
    "\n",
    "    for j in range(X_train_class[i].shape[0]):\n",
    "        # noisy_eta_hat = avg_eta_hat + np.random.normal(0, 1e-8, avg_eta_hat.shape)\n",
    "        _, P, theta = BP(Q_class[i][j], theta_class[i][j], avg_eta_hat_class[i], avg_scaleX, order=1, verbose=False, n_iter=100, lr=1e-4, exit_abs=True)\n",
    "        P_list_BP.append(P)\n",
    "        theta_list_BP.append(theta)\n",
    "\n",
    "        X_recons = (P).astype(np.int32)\n",
    "        X_recons_list.append(X_recons)\n",
    "\n",
    "    avg_scaleX_class.append(avg_scaleX)\n",
    "    P_BP_class.append(P_list_BP)\n",
    "    theta_BP_class.append(theta_list_BP)\n",
    "    X_recons_class.append(X_recons_list)"
   ]
  },
  {
   "cell_type": "code",
   "execution_count": 12,
   "metadata": {},
   "outputs": [],
   "source": [
    "# for i in unique_labels:\n",
    "#     plt.figure(figsize=(16, 3))\n",
    "#     for j in range(5):\n",
    "#         plt.subplot(1, 5, j + 1)\n",
    "#         plt.imshow(theta_BP_class[i][j])\n",
    "#         plt.axis('off')\n",
    "\n",
    "#     plt.show()"
   ]
  },
  {
   "cell_type": "markdown",
   "metadata": {},
   "source": [
    "### Fitting and Sampling"
   ]
  },
  {
   "cell_type": "code",
   "execution_count": 13,
   "metadata": {},
   "outputs": [],
   "source": [
    "num_new_samples = 30\n",
    "\n",
    "sampled_Q_class = []\n",
    "sampled_theta_class = []\n",
    "for i in unique_labels:\n",
    "    theta_BP = np.array(theta_BP_class[i]).reshape(-1, 5*6)\n",
    "    # Compute mean and covariance matrix\n",
    "    mean_theta = np.mean(theta_BP, axis=0)\n",
    "    cov_theta = np.cov(theta_BP, rowvar=False)\n",
    "\n",
    "    # Sample new data from the Gaussian distribution\n",
    "    sampled_theta = np.random.multivariate_normal(mean_theta, cov_theta, num_new_samples).reshape(num_new_samples, 2, 3, 5)\n",
    "\n",
    "    # plt.figure(figsize=(16, 3))\n",
    "    # for j in range(5):\n",
    "    #     plt.subplot(1, 5, j + 1)\n",
    "    #     plt.imshow(sampled_theta[j].reshape(2, 3, 5))\n",
    "    #     plt.axis('off')\n",
    "    # plt.show()\n",
    "\n",
    "    # Assuming a function compute_Q exists\n",
    "    sampled_Q = []\n",
    "    for j in range(num_new_samples):\n",
    "        sampled_Q.append(compute_Q(sampled_theta[j]))\n",
    "\n",
    "    sampled_theta_class.append(sampled_theta)\n",
    "    sampled_Q_class.append(sampled_Q)"
   ]
  },
  {
   "cell_type": "code",
   "execution_count": 14,
   "metadata": {},
   "outputs": [],
   "source": [
    "# Compute the avg_scaleX\n",
    "sampled_P_BP_class = []\n",
    "sampled_theta_BP_class = []\n",
    "X_recons_class = []\n",
    "\n",
    "for i in unique_labels:\n",
    "    sampled_P_list_BP = []\n",
    "    sampled_theta_list_BP = []\n",
    "    X_recons_list = []\n",
    "    for j in range(num_new_samples):\n",
    "        # add noise to eta_hat\n",
    "        _, P, theta = BP(sampled_Q_class[i][j], sampled_theta_class[i][j], avg_eta_hat_class[i], avg_scaleX_class[i], order=1, verbose=False, n_iter=100, lr=1e-4, exit_abs=True)\n",
    "        sampled_P_list_BP.append(P)\n",
    "        sampled_theta_list_BP.append(theta)\n",
    "\n",
    "        X_recons = (P).astype(np.int32).reshape(-1)\n",
    "        X_recons_list.append(X_recons)\n",
    "\n",
    "    sampled_P_BP_class.append(sampled_P_list_BP)\n",
    "    sampled_theta_BP_class.append(sampled_theta_list_BP)\n",
    "    X_recons_class.append(np.array(X_recons_list))"
   ]
  },
  {
   "cell_type": "code",
   "execution_count": 15,
   "metadata": {},
   "outputs": [],
   "source": [
    "for i in unique_labels:\n",
    "    X_train_new = np.concatenate((X_train, X_recons_class[i]), axis=0)\n",
    "    Y_train_new = np.concatenate((Y_train, np.array([i] * num_new_samples)), axis=0)"
   ]
  },
  {
   "cell_type": "code",
   "execution_count": 16,
   "metadata": {},
   "outputs": [
    {
     "name": "stdout",
     "output_type": "stream",
     "text": [
      "Accuracy on the test set: 0.22\n"
     ]
    },
    {
     "data": {
      "image/png": "[encoded data removed]",
      "text/plain": [
       "<Figure size 640x480 with 2 Axes>"
      ]
     },
     "metadata": {},
     "output_type": "display_data"
    }
   ],
   "source": [
    "# Train a logistic classifier\n",
    "clf = LogisticRegression(max_iter=1000)\n",
    "clf.fit(X_train_new, Y_train_new)\n",
    "\n",
    "# Measure the accuracy on the test set\n",
    "accuracy = clf.score(X_test, Y_test)\n",
    "print(\"Accuracy on the test set:\", accuracy)\n",
    "\n",
    "# Optional: Display the confusion matrix\n",
    "from sklearn.metrics import confusion_matrix, ConfusionMatrixDisplay\n",
    "\n",
    "y_pred = clf.predict(X_test)\n",
    "cm = confusion_matrix(Y_test, y_pred, labels=unique_labels)\n",
    "disp = ConfusionMatrixDisplay(confusion_matrix=cm, display_labels=unique_labels)\n",
    "\n",
    "disp.plot(cmap=plt.cm.Blues)\n",
    "plt.show()"
   ]
  },
  {
   "cell_type": "code",
   "execution_count": null,
   "metadata": {},
   "outputs": [],
   "source": []
  }
 ],
 "metadata": {
  "kernelspec": {
   "display_name": "base",
   "language": "python",
   "name": "python3"
  },
  "language_info": {
   "codemirror_mode": {
    "name": "ipython",
    "version": 3
   },
   "file_extension": ".py",
   "mimetype": "text/x-python",
   "name": "python",
   "nbconvert_exporter": "python",
   "pygments_lexer": "ipython3",
   "version": "3.11.9"
  }
 },
 "nbformat": 4,
 "nbformat_minor": 2
}
